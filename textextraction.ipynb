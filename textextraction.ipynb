{
 "cells": [
  {
   "cell_type": "code",
   "execution_count": 12,
   "id": "a138e6b6-6533-4774-8aed-ed1ca9e07dcf",
   "metadata": {},
   "outputs": [],
   "source": [
    "import os\n",
    "import traceback"
   ]
  },
  {
   "cell_type": "code",
   "execution_count": 13,
   "id": "389887b0-2899-44e1-aa8a-dc7a1778422e",
   "metadata": {},
   "outputs": [],
   "source": [
    "import numpy as np\n",
    "import cv2 \n",
    "import imutils\n",
    "from imutils import contours\n",
    "from imutils.perspective import four_point_transform\n",
    "from skimage.filters import threshold_local"
   ]
  },
  {
   "cell_type": "code",
   "execution_count": 6,
   "id": "ffa33b30-2c68-4a0c-bdcc-640661dc9a4c",
   "metadata": {},
   "outputs": [
    {
     "name": "stdout",
     "output_type": "stream",
     "text": [
      "Collecting pytesseract\n",
      "  Downloading pytesseract-0.3.10-py3-none-any.whl (14 kB)\n",
      "Requirement already satisfied: packaging>=21.3 in c:\\users\\dipasha\\anaconda3\\envs\\myenv\\lib\\site-packages (from pytesseract) (23.1)\n",
      "Requirement already satisfied: Pillow>=8.0.0 in c:\\users\\dipasha\\appdata\\roaming\\python\\python38\\site-packages (from pytesseract) (10.1.0)\n",
      "Installing collected packages: pytesseract\n",
      "Successfully installed pytesseract-0.3.10\n",
      "Note: you may need to restart the kernel to use updated packages.\n"
     ]
    }
   ],
   "source": [
    "pip install pytesseract"
   ]
  },
  {
   "cell_type": "code",
   "execution_count": 14,
   "id": "4440b670-1a34-49b0-86cf-233bd64ad883",
   "metadata": {},
   "outputs": [],
   "source": [
    "from PIL import Image\n",
    "import pytesseract"
   ]
  },
  {
   "cell_type": "code",
   "execution_count": 29,
   "id": "68512737-7beb-485d-bf54-6a2046d592b0",
   "metadata": {},
   "outputs": [
    {
     "name": "stdout",
     "output_type": "stream",
     "text": [
      "Error processing image C:/Users/dipasha/Bank Guarantees\\BCB-€1B-Cash-Funds-File-RWA-Letter-MT760-Verbiage-Fraud2-Example1.png: Unable to read the image at C:/Users/dipasha/Bank Guarantees\\BCB-€1B-Cash-Funds-File-RWA-Letter-MT760-Verbiage-Fraud2-Example1.png\n"
     ]
    }
   ],
   "source": [
    "pytesseract.pytesseract.tesseract_cmd = 'C:/Users/dipasha/AppData/Local/Programs/Tesseract-OCR/tesseract.exe'\n",
    "\n",
    "input_directory = 'C:/Users/dipasha/Bank Guarantees'\n",
    "output_directory = 'C:/Users/dipasha/Bank Guarantees Text'\n",
    "\n",
    "if not os.path.exists(output_directory):\n",
    "    os.makedirs(output_directory)\n",
    "\n",
    "# List all image files in the input directory\n",
    "image_files = [f for f in os.listdir(input_directory) if f.lower().endswith(('.png', '.jpg', '.jpeg'))]\n",
    "\n",
    "for image_file in image_files:\n",
    "    input_path = os.path.join(input_directory, image_file)\n",
    "    output_path = os.path.join(output_directory, os.path.splitext(image_file)[0])\n",
    "\n",
    "    try:\n",
    "        # reading file with cv2\n",
    "        img = cv2.imread(input_path)\n",
    "\n",
    "        if img is None:\n",
    "            raise Exception(f\"Unable to read the image at {input_path}\")\n",
    "\n",
    "        ratio = img.shape[0] / 500.0\n",
    "        original_img = img.copy()\n",
    "\n",
    "        # Additional preprocessing\n",
    "        # Resize the image\n",
    "        img = cv2.resize(img, None, fx=2, fy=2, interpolation=cv2.INTER_CUBIC)\n",
    "\n",
    "        # Convert the image to grayscale\n",
    "        gray = cv2.cvtColor(img, cv2.COLOR_BGR2GRAY)\n",
    "\n",
    "        # Apply histogram equalization for better contrast\n",
    "        gray = cv2.equalizeHist(gray)\n",
    "\n",
    "        # Apply adaptive thresholding\n",
    "        _, thresh = cv2.threshold(gray, 0, 255, cv2.THRESH_BINARY + cv2.THRESH_OTSU)\n",
    "\n",
    "        # Noise reduction using morphological operations\n",
    "        kernel = np.ones((5, 5), np.uint8)\n",
    "        thresh = cv2.morphologyEx(thresh, cv2.MORPH_CLOSE, kernel)\n",
    "\n",
    "        # Find contours\n",
    "        cnts, _ = cv2.findContours(thresh, cv2.RETR_EXTERNAL, cv2.CHAIN_APPROX_SIMPLE)\n",
    "\n",
    "        # Draw contours on a black background\n",
    "        contour_img = np.zeros_like(img)\n",
    "        cv2.drawContours(contour_img, cnts, -1, (255, 255, 255), thickness=cv2.FILLED)\n",
    "\n",
    "        # Resize contour image to match the size of the original image\n",
    "        contour_img = cv2.resize(contour_img, (original_img.shape[1], original_img.shape[0]))\n",
    "\n",
    "        # Bitwise-AND to preserve only the regions inside the contours\n",
    "        result_img = cv2.bitwise_and(original_img, contour_img)\n",
    "\n",
    "        # Save the processed image\n",
    "        processed_file_name = output_path + \"-Processed.png\"\n",
    "        cv2.imwrite(processed_file_name, result_img)\n",
    "\n",
    "        # Display the processed image\n",
    "        cv2.imshow(\"Processed Image\", result_img)\n",
    "        cv2.waitKey(0)\n",
    "\n",
    "        # Fetching text from the image and storing it into a text file\n",
    "        file_text = pytesseract.image_to_string(Image.fromarray(result_img))\n",
    "        text_file_name = output_path + \"-Scanned.txt\"\n",
    "        with open(text_file_name, \"a\") as f:\n",
    "            f.write(file_text + \"\\n\")\n",
    "\n",
    "    except Exception as e:\n",
    "        print(f\"Error processing image {input_path}: {str(e)}\")\n",
    "        continue  # Skip to the next iteration if an exception occurs\n",
    "\n",
    "    #print(f\"Processed image saved to: {scanned_file_name}\")\n",
    "    #print(f\"Text file saved to: {text_file_name}\")\n"
   ]
  },
  {
   "cell_type": "code",
   "execution_count": null,
   "id": "dacb0104-69ba-42cc-a7ea-8dfc16606443",
   "metadata": {},
   "outputs": [],
   "source": []
  }
 ],
 "metadata": {
  "kernelspec": {
   "display_name": "Python 3 (ipykernel)",
   "language": "python",
   "name": "python3"
  },
  "language_info": {
   "codemirror_mode": {
    "name": "ipython",
    "version": 3
   },
   "file_extension": ".py",
   "mimetype": "text/x-python",
   "name": "python",
   "nbconvert_exporter": "python",
   "pygments_lexer": "ipython3",
   "version": "3.8.18"
  }
 },
 "nbformat": 4,
 "nbformat_minor": 5
}
